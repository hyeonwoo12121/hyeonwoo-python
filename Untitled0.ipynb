{
  "nbformat": 4,
  "nbformat_minor": 0,
  "metadata": {
    "colab": {
      "provenance": [],
      "authorship_tag": "ABX9TyNpFDoPMRQekBKxDcM0ujbU",
      "include_colab_link": true
    },
    "kernelspec": {
      "name": "python3",
      "display_name": "Python 3"
    },
    "language_info": {
      "name": "python"
    }
  },
  "cells": [
    {
      "cell_type": "markdown",
      "metadata": {
        "id": "view-in-github",
        "colab_type": "text"
      },
      "source": [
        "<a href=\"https://colab.research.google.com/github/hyeonwoo12121/hyeonwoo-python/blob/main/Untitled0.ipynb\" target=\"_parent\"><img src=\"https://colab.research.google.com/assets/colab-badge.svg\" alt=\"Open In Colab\"/></a>"
      ]
    },
    {
      "cell_type": "code",
      "execution_count": 1,
      "metadata": {
        "colab": {
          "base_uri": "https://localhost:8080/"
        },
        "id": "ss0Rc_-ZicJb",
        "outputId": "7a44d6a3-2b86-425a-ad80-fee3d483c429"
      },
      "outputs": [
        {
          "output_type": "stream",
          "name": "stdout",
          "text": [
            "임의의 정수를 입력하세요...\n",
            "a: 10\n",
            "b: 5\n",
            "10 5 = (15, 5, 50, 2.0)\n"
          ]
        }
      ],
      "source": [
        "def Cal(a,b):\n",
        "    return a+b,a-b,a*b,a/b\n",
        "\n",
        "print('임의의 정수를 입력하세요...')\n",
        "a = int(input('a: '))\n",
        "b = int(input('b: '))\n",
        "\n",
        "res = Cal(a,b)\n",
        "print(f'{a} {b} = {res}')"
      ]
    },
    {
      "cell_type": "code",
      "source": [
        "def MAX(a,b,c,d):\n",
        "    return max(a,b,c,d)\n",
        "\n",
        "def MIN(a,b,c,d):\n",
        "    return min(a,b,c,d)\n",
        "\n",
        "\n",
        "\n",
        "\n",
        "\n",
        "print('임의의 4개의 정수를 입력하세요...')\n",
        "a = int(input('a: '))\n",
        "b = int(input('b: '))\n",
        "c = int(input('c: '))\n",
        "d = int(input('d: '))\n",
        "\n",
        "res = MAX(a,b,c,d)\n",
        "les = MIN(a,b,c,d)\n",
        "\n",
        "print(f'최댓값은 {res}')\n",
        "print(f'최솟값은 {les}')"
      ],
      "metadata": {
        "colab": {
          "base_uri": "https://localhost:8080/"
        },
        "id": "F_SyuEsRiqo3",
        "outputId": "3d6db4af-0682-431d-d159-317a87b1f6cb"
      },
      "execution_count": 3,
      "outputs": [
        {
          "output_type": "stream",
          "name": "stdout",
          "text": [
            "임의의 4개의 정수를 입력하세요...\n",
            "a: 10\n",
            "b: 21\n",
            "c: 31\n",
            "d: 40\n",
            "최댓값은 40\n",
            "최솟값은 10\n"
          ]
        }
      ]
    },
    {
      "cell_type": "code",
      "source": [
        "def revNum(num):\n",
        "    return int(str(num)[::-1])\n",
        "\n",
        "\n",
        "num = int(input('임의의 정수 입력: '))\n",
        "\n",
        "a = revNum(num)\n",
        "\n",
        "print(f'{a}')"
      ],
      "metadata": {
        "colab": {
          "base_uri": "https://localhost:8080/"
        },
        "id": "1U_Gh7S2i3fu",
        "outputId": "e9a08c5f-8f4c-4cea-ca7a-c680f3591195"
      },
      "execution_count": 4,
      "outputs": [
        {
          "output_type": "stream",
          "name": "stdout",
          "text": [
            "임의의 정수 입력: 1234561232\n",
            "2321654321\n"
          ]
        }
      ]
    },
    {
      "cell_type": "code",
      "source": [
        "def  fibo(n): #재귀함수이용\n",
        "    if n==1:\n",
        "        return [1]\n",
        "    if n==2:\n",
        "        return [1,1]\n",
        "    #n>2\n",
        "    a=1\n",
        "    b=1\n",
        "    series=[a,b]\n",
        "    for i in range(n-2):\n",
        "        c=a+b\n",
        "        series.append(c)\n",
        "        a=b\n",
        "        b=c\n",
        "    return series\n",
        "try:\n",
        "    n=int(input('피보나치 수열을 몇 항까지 만들까요?:'))\n",
        "    print(fibo(n))\n",
        "except ValueError:\n",
        "    print('잘못된 입력입니다. 프로그램을 종료합니다.')"
      ],
      "metadata": {
        "colab": {
          "base_uri": "https://localhost:8080/"
        },
        "id": "Hq2c543Kjfev",
        "outputId": "87e22793-25aa-4060-a63d-d59f6cec947b"
      },
      "execution_count": 5,
      "outputs": [
        {
          "output_type": "stream",
          "name": "stdout",
          "text": [
            "피보나치 수열을 몇 항까지 만들까요?:32\n",
            "[1, 1, 2, 3, 5, 8, 13, 21, 34, 55, 89, 144, 233, 377, 610, 987, 1597, 2584, 4181, 6765, 10946, 17711, 28657, 46368, 75025, 121393, 196418, 317811, 514229, 832040, 1346269, 2178309]\n"
          ]
        }
      ]
    },
    {
      "cell_type": "code",
      "source": [
        "def fibonacci(n): #재귀함수 이용\n",
        "    if n < 3:\n",
        "        return 1\n",
        "    return fibonacci(n-2) + fibonacci(n-1)\n",
        "\n",
        "\n",
        "i = 1\n",
        "n= int(input('몇번째 까지 구할건가요? '))\n",
        "\n",
        "\n",
        "# for문 버전\n",
        "\n",
        "\n",
        "\n",
        "for i in range(1,n+1):\n",
        "    print(fibonacci(i)) "
      ],
      "metadata": {
        "colab": {
          "base_uri": "https://localhost:8080/"
        },
        "id": "9uXJRCNmjl0_",
        "outputId": "8357bc05-4c8f-4bf7-fa99-1cdc972322dc"
      },
      "execution_count": 6,
      "outputs": [
        {
          "output_type": "stream",
          "name": "stdout",
          "text": [
            "몇번째 까지 구할건가요? 21\n",
            "1\n",
            "1\n",
            "2\n",
            "3\n",
            "5\n",
            "8\n",
            "13\n",
            "21\n",
            "34\n",
            "55\n",
            "89\n",
            "144\n",
            "233\n",
            "377\n",
            "610\n",
            "987\n",
            "1597\n",
            "2584\n",
            "4181\n",
            "6765\n",
            "10946\n"
          ]
        }
      ]
    },
    {
      "cell_type": "code",
      "source": [
        "def fibo(n) : #비재귀방식\n",
        "\n",
        "    a = 0\n",
        "    b = 1\n",
        "\n",
        "    \n",
        "    SequenceNo = 1\n",
        "\n",
        "    # b가 제 n항이 될 때까지:\n",
        "    while SequenceNo < n :\n",
        "\n",
        "        # b를 변화시키기 전의 값을, 별도 변수에 저장해 둔다.\n",
        "        lastB = b\n",
        "\n",
        "        # b에 a를 더한다. 이제 b는 변화된 b이다.\n",
        "        b += a\n",
        "\n",
        "        # a를, 변화되기 전의 b로 바꿔준다.\n",
        "        # 이렇게 해야 다음 while이 실행될 때 b += a 연산이 의도한 대로 동작한다.\n",
        "        a = lastB\n",
        "\n",
        "        # 다음 항을 처리할 준비를 한다.\n",
        "        SequenceNo += 1\n",
        "\n",
        "   \n",
        "    return b\n",
        "\n",
        "n = int(input('몇번째까지 출력 할 건가요? '))\n",
        "print(fibo(n))"
      ],
      "metadata": {
        "colab": {
          "base_uri": "https://localhost:8080/"
        },
        "id": "ffJdupA-khI_",
        "outputId": "7ff4760d-44d5-4f24-e26d-4eb1a6e2af79"
      },
      "execution_count": 7,
      "outputs": [
        {
          "output_type": "stream",
          "name": "stdout",
          "text": [
            "몇번째까지 출력 할 건가요? 8\n",
            "21\n"
          ]
        }
      ]
    }
  ]
}